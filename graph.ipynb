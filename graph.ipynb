{
 "cells": [
  {
   "cell_type": "code",
   "execution_count": 1,
   "metadata": {
    "collapsed": true,
    "pycharm": {
     "name": "#%%\n"
    }
   },
   "outputs": [],
   "source": [
    "import networkx as nx\n",
    "import pandas as pd\n",
    "import tqdm\n",
    "\n",
    "from dataset import extract_features"
   ]
  },
  {
   "cell_type": "code",
   "execution_count": 2,
   "outputs": [],
   "source": [
    "trx = pd.read_csv('data/mettl/transactions.csv')\n",
    "trx = trx[trx.from_account.notnull()][trx.to_account.notnull()]\n",
    "trx = trx.astype({'from_account': str, 'to_account': str, 'transaction_time_utc': str, 'value': float})\n",
    "test_acc = pd.read_csv('data/mettl/test_accounts.csv')\n",
    "test_acc_address = test_acc.account.values\n",
    "train_acc = pd.read_csv('data/mettl/train_accounts.csv')\n",
    "train_acc_address = train_acc.account.values"
   ],
   "metadata": {
    "collapsed": false,
    "pycharm": {
     "name": "#%%\n"
    }
   }
  },
  {
   "cell_type": "code",
   "execution_count": 3,
   "outputs": [],
   "source": [
    "G = nx.from_pandas_edgelist(trx, source='from_account', target='to_account', create_using=nx.MultiGraph, edge_attr=True)"
   ],
   "metadata": {
    "collapsed": false,
    "pycharm": {
     "name": "#%%\n"
    }
   }
  },
  {
   "cell_type": "code",
   "execution_count": 4,
   "outputs": [],
   "source": [
    "valid_train = [acc for acc in train_acc_address if acc in G]\n",
    "valid_test = [acc for acc in test_acc_address if acc in G]"
   ],
   "metadata": {
    "collapsed": false,
    "pycharm": {
     "name": "#%%\n"
    }
   }
  },
  {
   "cell_type": "code",
   "execution_count": 5,
   "outputs": [
    {
     "name": "stderr",
     "output_type": "stream",
     "text": [
      "Extracting features for account a09863: 100%|███████████████████████████████████████████████████████████████████| 25198/25198 [05:25<00:00, 77.44it/s]\n",
      "Extracting features for account a03148: 100%|█████████████████████████████████████████████████████████████████████| 6300/6300 [01:13<00:00, 85.73it/s]\n"
     ]
    }
   ],
   "source": [
    "import warnings\n",
    "warnings.filterwarnings('ignore')\n",
    "\n",
    "train_features = extract_features(G, valid_train)\n",
    "test_features = extract_features(G, valid_test)"
   ],
   "metadata": {
    "collapsed": false,
    "pycharm": {
     "name": "#%%\n"
    }
   }
  },
  {
   "cell_type": "code",
   "execution_count": 6,
   "outputs": [],
   "source": [
    "train_features.to_csv('data/mettl/train_cleaned_features.csv', index=False)\n",
    "test_features.to_csv('data/mettl/test_cleaned_features.csv', index=False)"
   ],
   "metadata": {
    "collapsed": false,
    "pycharm": {
     "name": "#%%\n"
    }
   }
  },
  {
   "cell_type": "code",
   "execution_count": 7,
   "outputs": [],
   "source": [
    "train_feat_flag = train_features.merge(train_acc, on='account')\n",
    "cols = train_feat_flag.columns.tolist()\n",
    "train_feat_flag = train_feat_flag[cols[:1] + cols[-1:] + cols[1:-1]]\n",
    "train_feat_flag.to_csv('data/mettl/train_feat_flag.csv', index=False)"
   ],
   "metadata": {
    "collapsed": false,
    "pycharm": {
     "name": "#%%\n"
    }
   }
  },
  {
   "cell_type": "code",
   "execution_count": 8,
   "outputs": [],
   "source": [
    "test_feat_flag = test_features.merge(test_acc, on='account')\n",
    "cols = test_feat_flag.columns.tolist()\n",
    "test_feat_flag.to_csv('data/mettl/test_feat_flag.csv', index=False)"
   ],
   "metadata": {
    "collapsed": false,
    "pycharm": {
     "name": "#%%\n"
    }
   }
  },
  {
   "cell_type": "code",
   "execution_count": 9,
   "outputs": [
    {
     "name": "stderr",
     "output_type": "stream",
     "text": [
      "100%|██████████| 25198/25198 [04:21<00:00, 96.30it/s] \n"
     ]
    }
   ],
   "source": [
    "import warnings\n",
    "warnings.filterwarnings('ignore')\n",
    "train_feat_flag = pd.read_csv('data/mettl/train_feat_flag.csv')\n",
    "test_feat_flag = pd.read_csv('data/mettl/test_feat_flag.csv')\n",
    "from dataset import aggregate_neighbors_features\n",
    "train_all_features = None\n",
    "for acc in tqdm.tqdm(train_acc_address):\n",
    "    neighbors = G[acc]\n",
    "    neighbors = set(neighbors).intersection(set(train_acc_address))\n",
    "    agg_feat_neighbors = train_feat_flag[train_feat_flag.account.isin(list(neighbors))]\n",
    "    row = train_feat_flag[train_feat_flag.account == acc]\n",
    "    row_agg = aggregate_neighbors_features(df=agg_feat_neighbors)\n",
    "    row_agg['account'] = acc\n",
    "    row = row.merge(pd.DataFrame([row_agg]), on='account')\n",
    "    if train_all_features is None:\n",
    "        train_all_features = row\n",
    "    else:\n",
    "        train_all_features = pd.concat([train_all_features, row], axis=0, ignore_index=True)"
   ],
   "metadata": {
    "collapsed": false,
    "pycharm": {
     "name": "#%%\n"
    }
   }
  },
  {
   "cell_type": "code",
   "execution_count": 10,
   "outputs": [
    {
     "name": "stderr",
     "output_type": "stream",
     "text": [
      "100%|██████████| 6300/6300 [00:47<00:00, 132.77it/s]\n"
     ]
    }
   ],
   "source": [
    "test_all_features = None\n",
    "for acc in tqdm.tqdm(test_acc_address):\n",
    "    neighbors = G[acc]\n",
    "    neighbors = set(neighbors).intersection(set(train_acc_address))\n",
    "    agg_feat_neighbors = train_feat_flag[train_feat_flag.account.isin(list(neighbors))]\n",
    "    row = test_feat_flag[test_feat_flag.account == acc]\n",
    "    row_agg = aggregate_neighbors_features(df=agg_feat_neighbors)\n",
    "    row_agg['account'] = acc\n",
    "    row = row.merge(pd.DataFrame([row_agg]), on='account')\n",
    "    if test_all_features is None:\n",
    "        test_all_features = row\n",
    "    else:\n",
    "        test_all_features = pd.concat([test_all_features, row], axis=0, ignore_index=True)"
   ],
   "metadata": {
    "collapsed": false,
    "pycharm": {
     "name": "#%%\n"
    }
   }
  },
  {
   "cell_type": "code",
   "execution_count": 11,
   "outputs": [],
   "source": [
    "train_all_features.to_csv('data/mettl/train_agg.csv', index=False)\n",
    "test_all_features.to_csv('data/mettl/test_agg.csv', index=False)"
   ],
   "metadata": {
    "collapsed": false,
    "pycharm": {
     "name": "#%%\n"
    }
   }
  },
  {
   "cell_type": "code",
   "execution_count": 11,
   "outputs": [],
   "source": [],
   "metadata": {
    "collapsed": false,
    "pycharm": {
     "name": "#%%\n"
    }
   }
  }
 ],
 "metadata": {
  "kernelspec": {
   "display_name": "Python 3",
   "language": "python",
   "name": "python3"
  },
  "language_info": {
   "codemirror_mode": {
    "name": "ipython",
    "version": 2
   },
   "file_extension": ".py",
   "mimetype": "text/x-python",
   "name": "python",
   "nbconvert_exporter": "python",
   "pygments_lexer": "ipython2",
   "version": "2.7.6"
  }
 },
 "nbformat": 4,
 "nbformat_minor": 0
}